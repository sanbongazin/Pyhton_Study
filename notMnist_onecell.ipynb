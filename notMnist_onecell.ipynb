{
 "cells": [
  {
   "cell_type": "code",
   "execution_count": 8,
   "metadata": {},
   "outputs": [
    {
     "name": "stderr",
     "output_type": "stream",
     "text": [
      "/Users/yamamotomasaomi/.pyenv/versions/anaconda3-5.1.0/lib/python3.6/site-packages/sklearn/cross_validation.py:41: DeprecationWarning: This module was deprecated in version 0.18 in favor of the model_selection module into which all the refactored classes and functions are moved. Also note that the interface of the new CV iterators are different from that of this module. This module will be removed in 0.20.\n",
      "  \"This module will be removed in 0.20.\", DeprecationWarning)\n"
     ]
    }
   ],
   "source": [
    "import numpy as np\n",
    "from sklearn.cross_validation import train_test_split\n",
    "from PIL import Image\n",
    "import os\n",
    "\n",
    "class NotMNIST:\n",
    "    def __init__(self):\n",
    "        images, labels = [], []\n",
    "\n",
    "        for i, letter in enumerate(['A', 'B', 'C', 'D', 'E', 'F', 'G', 'H', 'I', 'J']):\n",
    "            directory = 'notMNIST_large/%s/' % letter\n",
    "            files = os.listdir(directory)\n",
    "            label = np.array([0]*10)\n",
    "            label[i] = 1\n",
    "            i = 0\n",
    "            for file in files:\n",
    "                try:\n",
    "                    i+=1\n",
    "                    im = Image.open(directory+file)\n",
    "                    if i % 20000 == 0:\n",
    "                        print(\"ok\")\n",
    "                except:\n",
    "                    print (\"Skip a corrupted file: \" + file)\n",
    "                    continue\n",
    "                pixels = np.array(im.convert('L').getdata())\n",
    "                images.append(pixels/255.0)\n",
    "                labels.append(label)\n",
    "          \n",
    "        train_images, test_images, train_labels, test_labels = \\\n",
    "            train_test_split(images, labels, test_size=0.2, random_state=0)\n",
    "        \n",
    "        class train:\n",
    "            def __init__(self):\n",
    "                self.images = []\n",
    "                self.labels = []\n",
    "                self.batch_counter = 0\n",
    "                \n",
    "            def next_batch(self, num):\n",
    "                if self.batch_counter + num >= len(self.labels):\n",
    "                    batch_images = self.images[self.batch_counter:]\n",
    "                    batch_labels = self.labels[self.batch_counter:]\n",
    "                    left = num - len(batch_labels)\n",
    "                    batch_images.extend(self.images[:left])\n",
    "                    batch_labels.extend(self.labels[:left])\n",
    "                    self.batch_counter = left\n",
    "                else:\n",
    "                    batch_images = self.images[self.batch_counter:self.batch_counter+num]\n",
    "                    batch_labels = self.labels[self.batch_counter:self.batch_counter+num]                  \n",
    "                    self.batch_counter += num\n",
    "                    \n",
    "                return (batch_images, batch_labels)\n",
    "                    \n",
    "        class test:\n",
    "            def __init__(self):\n",
    "                self.images = []\n",
    "                self.labels = []\n",
    "                \n",
    "        self.train = train()\n",
    "        self.test = test()\n",
    "                \n",
    "        self.train.images = train_images\n",
    "        self.train.labels = train_labels\n",
    "        self.test.images = test_images\n",
    "        self.test.labels = test_labels"
   ]
  },
  {
   "cell_type": "code",
   "execution_count": null,
   "metadata": {},
   "outputs": [
    {
     "name": "stdout",
     "output_type": "stream",
     "text": [
      "Skip a corrupted file: .DS_Store\n",
      "ok\n",
      "Skip a corrupted file: Um9tYW5hIEJvbGQucGZi.png\n",
      "ok\n",
      "Skip a corrupted file: SG90IE11c3RhcmQgQlROIFBvc3Rlci50dGY=.png\n",
      "ok\n",
      "ok\n",
      "Skip a corrupted file: TmlraXNFRi1TZW1pQm9sZEl0YWxpYy5vdGY=.png\n",
      "ok\n",
      "ok\n",
      "ok\n",
      "Skip a corrupted file: VHJhbnNpdCBCb2xkLnR0Zg==.png\n",
      "ok\n",
      "ok\n",
      "ok\n",
      "ok\n",
      "ok\n"
     ]
    }
   ],
   "source": [
    "mnist=NotMNIST()\n",
    "!store mnist"
   ]
  },
  {
   "cell_type": "code",
   "execution_count": 3,
   "metadata": {},
   "outputs": [],
   "source": [
    "#  必要な素材の収集\n",
    "import tensorflow as tf\n",
    "import numpy as np\n",
    "import matplotlib.pyplot as plt\n",
    "from __future__ import division\n",
    "import sys, os, pickle\n",
    "import numpy.random as rd\n",
    "\n",
    "from scipy.misc import imread\n",
    "\n",
    "import matplotlib.pyplot as plt\n",
    "\n",
    "# ランダムシードの作成\n",
    "np.random.seed(20160703)\n",
    "tf.set_random_seed(20160703)\n",
    "\n",
    "\n",
    "# その他コンフィグ（いつもの）\n",
    "%config IPCompleter.greedy=True\n",
    "%matplotlib inline\n",
    "%matplotlib notebook\n",
    "\n",
    "#画像取り込みデータのオープン\n",
    "# !ls session_MNIST_Image*"
   ]
  },
  {
   "cell_type": "code",
   "execution_count": 4,
   "metadata": {},
   "outputs": [],
   "source": [
    "num_units = 1024\n",
    "\n",
    "x = tf.placeholder(tf.float32, [None, 784])\n",
    "\n",
    "w1 = tf.Variable(tf.truncated_normal([784, num_units]))\n",
    "b1 = tf.Variable(tf.zeros([num_units]))\n",
    "hidden1 = tf.nn.relu(tf.matmul(x, w1)+b1)\n",
    "\n",
    "w0 = tf.Variable(tf.zeros([num_units,10]))\n",
    "b0 = tf.Variable(tf.zeros([10]))\n",
    "p = tf.nn.softmax(tf.matmul(hidden1, w0) + b0)"
   ]
  },
  {
   "cell_type": "code",
   "execution_count": 5,
   "metadata": {},
   "outputs": [
    {
     "name": "stdout",
     "output_type": "stream",
     "text": [
      "WARNING:tensorflow:From <ipython-input-5-bec7709cb540>:4: arg_max (from tensorflow.python.ops.gen_math_ops) is deprecated and will be removed in a future version.\n",
      "Instructions for updating:\n",
      "Use `argmax` instead\n"
     ]
    }
   ],
   "source": [
    "t = tf.placeholder(tf.float32, [None, 10])\n",
    "loss = -tf.reduce_sum(t * tf.log(p))\n",
    "train_step = tf.train.AdamOptimizer(0.0001).minimize(loss)\n",
    "correct_prediction = tf.equal(tf.arg_max(p, 1), tf.arg_max(t, 1))\n",
    "accuracy = tf.reduce_mean(tf.cast(correct_prediction, tf.float32))"
   ]
  },
  {
   "cell_type": "code",
   "execution_count": 6,
   "metadata": {},
   "outputs": [],
   "source": [
    "sess = tf.InteractiveSession()\n",
    "sess.run(tf.global_variables_initializer())"
   ]
  },
  {
   "cell_type": "code",
   "execution_count": 7,
   "metadata": {},
   "outputs": [
    {
     "ename": "NameError",
     "evalue": "name 'mnist' is not defined",
     "output_type": "error",
     "traceback": [
      "\u001b[0;31m---------------------------------------------------------------------------\u001b[0m",
      "\u001b[0;31mNameError\u001b[0m                                 Traceback (most recent call last)",
      "\u001b[0;32m<ipython-input-7-3f0991767989>\u001b[0m in \u001b[0;36m<module>\u001b[0;34m()\u001b[0m\n\u001b[1;32m      6\u001b[0m \u001b[0;32mfor\u001b[0m \u001b[0m_\u001b[0m \u001b[0;32min\u001b[0m \u001b[0mrange\u001b[0m \u001b[0;34m(\u001b[0m\u001b[0;36m2000\u001b[0m\u001b[0;34m)\u001b[0m\u001b[0;34m:\u001b[0m\u001b[0;34m\u001b[0m\u001b[0m\n\u001b[1;32m      7\u001b[0m     \u001b[0mi\u001b[0m\u001b[0;34m+=\u001b[0m\u001b[0;36m1\u001b[0m\u001b[0;34m\u001b[0m\u001b[0m\n\u001b[0;32m----> 8\u001b[0;31m     \u001b[0mbatch_xs\u001b[0m\u001b[0;34m,\u001b[0m \u001b[0mbatch_ts\u001b[0m \u001b[0;34m=\u001b[0m \u001b[0mmnist\u001b[0m\u001b[0;34m.\u001b[0m\u001b[0mtrain\u001b[0m\u001b[0;34m.\u001b[0m\u001b[0mnext_batch\u001b[0m\u001b[0;34m(\u001b[0m\u001b[0;36m50\u001b[0m\u001b[0;34m)\u001b[0m\u001b[0;34m\u001b[0m\u001b[0m\n\u001b[0m\u001b[1;32m      9\u001b[0m     \u001b[0msess\u001b[0m\u001b[0;34m.\u001b[0m\u001b[0mrun\u001b[0m\u001b[0;34m(\u001b[0m\u001b[0mtrain_step\u001b[0m\u001b[0;34m,\u001b[0m\u001b[0mfeed_dict\u001b[0m\u001b[0;34m=\u001b[0m\u001b[0;34m{\u001b[0m\u001b[0mx\u001b[0m\u001b[0;34m:\u001b[0m\u001b[0mbatch_xs\u001b[0m\u001b[0;34m,\u001b[0m \u001b[0mt\u001b[0m\u001b[0;34m:\u001b[0m \u001b[0mbatch_ts\u001b[0m\u001b[0;34m}\u001b[0m\u001b[0;34m)\u001b[0m\u001b[0;34m\u001b[0m\u001b[0m\n\u001b[1;32m     10\u001b[0m     \u001b[0mtime\u001b[0m\u001b[0;34m.\u001b[0m\u001b[0mappend\u001b[0m\u001b[0;34m(\u001b[0m\u001b[0mi\u001b[0m\u001b[0;34m)\u001b[0m\u001b[0;34m\u001b[0m\u001b[0m\n",
      "\u001b[0;31mNameError\u001b[0m: name 'mnist' is not defined"
     ]
    }
   ],
   "source": [
    "i=0\n",
    "time = []\n",
    "loss_val , acc_val = [], []\n",
    "loss_vals, acc_vals = [], []\n",
    "\n",
    "for _ in range (2000):\n",
    "    i+=1\n",
    "    batch_xs, batch_ts = mnist.train.next_batch(50)\n",
    "    sess.run(train_step,feed_dict={x:batch_xs, t: batch_ts})\n",
    "    time.append(i)\n",
    "#     loss_val, acc_val = sess.run([loss,accuracy],feed_dict={x:mnist.test.images[start:end],t:mnist.test.labels[start:end]})\n",
    "#     np.append(loss_val,loss_vals)\n",
    "#     np.append(acc_val,acc_vals)\n",
    "    \n",
    "    if i % 500 == 0:\n",
    "        for c in range(4):\n",
    "            start = len(mnist.test.images) // 4 * c\n",
    "            end = len(mnist.test.images) // 4 * (c+1)\n",
    "            loss_val, acc_val = sess.run([loss,accuracy],feed_dict={x:mnist.test.images[start:end],t:mnist.test.labels[start:end]})\n",
    "            np.append(loss_val,loss_vals)\n",
    "            np.append(acc_val,acc_vals)\n",
    "        loss_val = np.sum(loss_vals)\n",
    "        acc_val = np.mean(acc_vals)\n",
    "        print('Step: %d, Loss:%f, Accuracy: %f' \n",
    "                % (i, loss_val, acc_val))"
   ]
  },
  {
   "cell_type": "code",
   "execution_count": 8,
   "metadata": {},
   "outputs": [
    {
     "data": {
      "text/plain": [
       "<matplotlib.legend.Legend at 0x1a4c24dcc0>"
      ]
     },
     "execution_count": 8,
     "metadata": {},
     "output_type": "execute_result"
    },
    {
     "data": {
      "image/png": "[encoded data removed]",
      "text/plain": [
       "<Figure size 576x432 with 1 Axes>"
      ]
     },
     "metadata": {},
     "output_type": "display_data"
    }
   ],
   "source": [
    "fig = plt.figure(figsize=(8,6))\n",
    "subplot = fig.add_subplot(1,1,1)\n",
    "subplot.plot(range(len(acc_vals)),acc_vals,linewidth=2,label='Test set')\n",
    "subplot.legend(loc='upper left')"
   ]
  },
  {
   "cell_type": "code",
   "execution_count": 9,
   "metadata": {},
   "outputs": [
    {
     "data": {
      "text/plain": [
       "[]"
      ]
     },
     "execution_count": 9,
     "metadata": {},
     "output_type": "execute_result"
    }
   ],
   "source": [
    "acc_vals"
   ]
  },
  {
   "cell_type": "code",
   "execution_count": null,
   "metadata": {},
   "outputs": [],
   "source": []
  }
 ],
 "metadata": {
  "kernelspec": {
   "display_name": "Environment (conda_anaconda3-5.1.0)",
   "language": "python",
   "name": "conda_anaconda3-5.1.0"
  },
  "language_info": {
   "codemirror_mode": {
    "name": "ipython",
    "version": 3
   },
   "file_extension": ".py",
   "mimetype": "text/x-python",
   "name": "python",
   "nbconvert_exporter": "python",
   "pygments_lexer": "ipython3",
   "version": "3.6.4"
  },
  "toc": {
   "base_numbering": 1,
   "nav_menu": {},
   "number_sections": true,
   "sideBar": true,
   "skip_h1_title": false,
   "title_cell": "Table of Contents",
   "title_sidebar": "Contents",
   "toc_cell": false,
   "toc_position": {},
   "toc_section_display": true,
   "toc_window_display": false
  }
 },
 "nbformat": 4,
 "nbformat_minor": 2
}
